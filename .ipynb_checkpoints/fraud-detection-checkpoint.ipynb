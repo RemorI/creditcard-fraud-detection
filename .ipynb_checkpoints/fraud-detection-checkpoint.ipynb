{
 "cells": [
  {
   "cell_type": "markdown",
   "id": "29687847-7970-4930-85de-630546f0f556",
   "metadata": {},
   "source": [
    "# Fraud Detection - Credit Card Transactions"
   ]
  },
  {
   "cell_type": "markdown",
   "id": "83a47b63-8a2e-4cb4-a325-7ebdc755c82a",
   "metadata": {},
   "source": [
    "Dataset from [Kartik Shenoy](https://www.kaggle.com/datasets/kartik2112/fraud-detection/data)"
   ]
  },
  {
   "cell_type": "markdown",
   "id": "3ed02b33-21cb-4b58-a488-49b07f16a72c",
   "metadata": {},
   "source": [
    "When we try to analyse a dataset where a category, in this case; \"fraud\" and \"not fraud\", have a highly different proportion, we don't have enough examples to make a good prediction. We face a **inbalanced dataset**. <br>\n",
    "Some ways to improve our predictions could be:\n",
    "- Model Parameter Adjustment\n",
    "- Modify Dataset\n",
    "- Artificial samples\n",
    "- Balanced Ensemble Methodsion\n",
    "<br>"
   ]
  },
  {
   "cell_type": "code",
   "execution_count": null,
   "id": "f9fe5211-c9f3-4e4d-86b5-89deb2e5bc1a",
   "metadata": {},
   "outputs": [],
   "source": []
  },
  {
   "cell_type": "markdown",
   "id": "0f2c2ea4-8321-48df-95d8-839866880b85",
   "metadata": {},
   "source": [
    "The **accuracy** of the model is basically the total number of correct predictions divided by the total number of predictions.<br>\n",
    "The **precision** of a class defines how reliable a model is in answering whether a point belongs to that class.<br>\n",
    "The **recall** of a class expresses how well the model can detect that class.<br>\n",
    "<br>\n",
    "There are four possible cases:\n",
    "- **High precision and high recall**: the model handles that class perfectly\n",
    "- **High precision and low recall**: the model does not detect the class very well, but when it does it is highly reliable.\n",
    "- **Low precision and high recall**: The class detects the class well but also includes samples from other classes.\n",
    "- **Low precision and low recall**: The model fails to classify the class correctly."
   ]
  },
  {
   "cell_type": "markdown",
   "id": "613c5a71-76a4-4478-a63c-3f604a066e6c",
   "metadata": {},
   "source": [
    "Some of the most common metric for desbalanced datasets:\n",
    "- **F1-Score**: represents both precision and recall in one metric.\n",
    "- **AUC Score**: a popular metric to evaluate the performance of binary classifiers.\n",
    "- **Average Precision Score (AP)**: summarizes a precision-recall curve as the weighted mean of precisions achieved at each threshold.\n",
    "- **G-Mean**: a metric that measures the balance between classification performances on both the majority and minority classes."
   ]
  },
  {
   "cell_type": "markdown",
   "id": "4f1e06dd-63ee-46a7-b236-c7d792252e01",
   "metadata": {},
   "source": [
    "### Import Libraries"
   ]
  },
  {
   "cell_type": "code",
   "execution_count": 7,
   "id": "5b971dcf-1fa2-423f-a8e4-aacb8e48b27d",
   "metadata": {},
   "outputs": [],
   "source": [
    "import pandas as pd\n",
    "import numpy as np"
   ]
  },
  {
   "cell_type": "markdown",
   "id": "ce95b384-9116-41c2-b29a-3cfc2ffc2802",
   "metadata": {},
   "source": [
    "### Load Dataset"
   ]
  },
  {
   "cell_type": "code",
   "execution_count": null,
   "id": "8c32eddb-d339-4e1a-8c50-4391239f7054",
   "metadata": {},
   "outputs": [],
   "source": []
  }
 ],
 "metadata": {
  "kernelspec": {
   "display_name": "Python 3 (ipykernel)",
   "language": "python",
   "name": "python3"
  },
  "language_info": {
   "codemirror_mode": {
    "name": "ipython",
    "version": 3
   },
   "file_extension": ".py",
   "mimetype": "text/x-python",
   "name": "python",
   "nbconvert_exporter": "python",
   "pygments_lexer": "ipython3",
   "version": "3.12.4"
  }
 },
 "nbformat": 4,
 "nbformat_minor": 5
}
